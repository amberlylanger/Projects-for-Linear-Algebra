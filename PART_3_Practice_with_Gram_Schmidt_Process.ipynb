{
  "nbformat": 4,
  "nbformat_minor": 0,
  "metadata": {
    "colab": {
      "name": "PART 3 Practice with Gram Schmidt Process.ipynb",
      "provenance": [],
      "authorship_tag": "ABX9TyMUF6hwRjSe94MztNkcKC4K",
      "include_colab_link": true
    },
    "kernelspec": {
      "name": "python3",
      "display_name": "Python 3"
    }
  },
  "cells": [
    {
      "cell_type": "markdown",
      "metadata": {
        "id": "view-in-github",
        "colab_type": "text"
      },
      "source": [
        "<a href=\"https://colab.research.google.com/github/amberlylanger/Projects-for-Linear-Algebra/blob/master/PART_3_Practice_with_Gram_Schmidt_Process.ipynb\" target=\"_parent\"><img src=\"https://colab.research.google.com/assets/colab-badge.svg\" alt=\"Open In Colab\"/></a>"
      ]
    },
    {
      "cell_type": "code",
      "metadata": {
        "id": "6sG3uD2LBH6X"
      },
      "source": [
        "\n",
        "import matplotlib.pyplot as plt\n",
        "from sympy import Poly\n",
        "import sympy as sym\n",
        "import numpy as np\n",
        "from numpy import c_\n",
        "\n",
        "# We'll specify that x and t are variables:\n",
        "x, t = sym.symbols('x, t')\n",
        "\n",
        "ll = \"loaded\""
      ],
      "execution_count": 3,
      "outputs": []
    },
    {
      "cell_type": "code",
      "metadata": {
        "id": "MKWeMj88Bb2s",
        "outputId": "56114dbe-a367-4273-d7f1-f0e6b2f53650",
        "colab": {
          "base_uri": "https://localhost:8080/",
          "height": 102
        }
      },
      "source": [
        "# examples of matrix and vector definition\n",
        "\n",
        "# create the matrix:\n",
        "M = np.matrix([[1, -1, 0, 0],\n",
        "               [1, 0, -1, 0],\n",
        "               [0, 1, -1, 0],\n",
        "               [0, 0, -1, 1],\n",
        "               [-1, 0, 0, 1]])\n",
        "\n",
        "\n",
        "# create the vector for the right hand side:\n",
        "pts = np.matrix([[1], [14], [38], [11], [20]])\n",
        " \n",
        "#Make sure the system looks appropriate:\n",
        "print(np.c_[M,pts])"
      ],
      "execution_count": 4,
      "outputs": [
        {
          "output_type": "stream",
          "text": [
            "[[ 1 -1  0  0  1]\n",
            " [ 1  0 -1  0 14]\n",
            " [ 0  1 -1  0 38]\n",
            " [ 0  0 -1  1 11]\n",
            " [-1  0  0  1 20]]\n"
          ],
          "name": "stdout"
        }
      ]
    },
    {
      "cell_type": "code",
      "metadata": {
        "id": "tWvxfQbJByV4",
        "outputId": "50ac7390-3405-49fe-ebc4-4f14c487cebf",
        "colab": {
          "base_uri": "https://localhost:8080/",
          "height": 102
        }
      },
      "source": [
        "pts"
      ],
      "execution_count": 5,
      "outputs": [
        {
          "output_type": "execute_result",
          "data": {
            "text/plain": [
              "matrix([[ 1],\n",
              "        [14],\n",
              "        [38],\n",
              "        [11],\n",
              "        [20]])"
            ]
          },
          "metadata": {
            "tags": []
          },
          "execution_count": 5
        }
      ]
    },
    {
      "cell_type": "code",
      "metadata": {
        "id": "UuWvgdW6BzPj",
        "outputId": "c1dfb588-904b-45e3-c22e-df2dbd6018a8",
        "colab": {
          "base_uri": "https://localhost:8080/",
          "height": 34
        }
      },
      "source": [
        "# how do I do a dot product?\n",
        "np.dot([1,4],[3,6])"
      ],
      "execution_count": 6,
      "outputs": [
        {
          "output_type": "execute_result",
          "data": {
            "text/plain": [
              "27"
            ]
          },
          "metadata": {
            "tags": []
          },
          "execution_count": 6
        }
      ]
    },
    {
      "cell_type": "code",
      "metadata": {
        "id": "qdx3KRVECRIY",
        "outputId": "f077032f-8ee1-4b6c-e1e6-be8f5da4ed85",
        "colab": {
          "base_uri": "https://localhost:8080/",
          "height": 34
        }
      },
      "source": [
        "# How do I find the magnitude in np?\n",
        "np.sqrt(np.dot([1,4],[3,6]))"
      ],
      "execution_count": 7,
      "outputs": [
        {
          "output_type": "execute_result",
          "data": {
            "text/plain": [
              "5.196152422706632"
            ]
          },
          "metadata": {
            "tags": []
          },
          "execution_count": 7
        }
      ]
    },
    {
      "cell_type": "code",
      "metadata": {
        "id": "uiIKMRvzCdR9",
        "outputId": "21460b68-d489-4935-ae51-b8cb43dcfe2d",
        "colab": {
          "base_uri": "https://localhost:8080/",
          "height": 34
        }
      },
      "source": [
        "# Define the original vectors:\n",
        "\n",
        "r1= [0,3,-3,0]\n",
        "r2= [2,6,-2,2]\n",
        "r3= [-2,1,-3,0]\n",
        "r4= [2,-4,-2,4]\n",
        "\n",
        "# look at r1:\n",
        "r1"
      ],
      "execution_count": 8,
      "outputs": [
        {
          "output_type": "execute_result",
          "data": {
            "text/plain": [
              "[0, 3, -3, 0]"
            ]
          },
          "metadata": {
            "tags": []
          },
          "execution_count": 8
        }
      ]
    },
    {
      "cell_type": "code",
      "metadata": {
        "id": "shiry0HEl2QP",
        "outputId": "c5181749-47ae-4c95-9f1d-66e9e36f6520",
        "colab": {
          "base_uri": "https://localhost:8080/",
          "height": 34
        }
      },
      "source": [
        "# find the first nice basis vector u1:\n",
        "\n",
        "# 1: Pick a new vector\n",
        "r1\n",
        "\n",
        "# 2:subtract the projection of r1 onto the nice basis u1, u2, u3...\n",
        "# and save this as a temp vector n1\n",
        "\n",
        "n1=r1\n",
        "r1\n",
        "\n",
        "#3: find the magnitude of n1\n",
        "np.sqrt(np.dot(n1,n1))\n",
        "\n",
        "#4: create a nice basis vector u1=1/ |n1| * n1\n",
        "u1= n1/ np.sqrt(np.dot(n1,n1))\n",
        "u1"
      ],
      "execution_count": 9,
      "outputs": [
        {
          "output_type": "execute_result",
          "data": {
            "text/plain": [
              "array([ 0.        ,  0.70710678, -0.70710678,  0.        ])"
            ]
          },
          "metadata": {
            "tags": []
          },
          "execution_count": 9
        }
      ]
    },
    {
      "cell_type": "code",
      "metadata": {
        "id": "hutHjlU1mopE",
        "outputId": "86ca39ee-67cf-4d3d-9eb7-fa7c62aedf25",
        "colab": {
          "base_uri": "https://localhost:8080/",
          "height": 34
        }
      },
      "source": [
        "# check that u1 has magnitude 1:\n",
        "np.dot(u1,u1)"
      ],
      "execution_count": 10,
      "outputs": [
        {
          "output_type": "execute_result",
          "data": {
            "text/plain": [
              "1.0000000000000002"
            ]
          },
          "metadata": {
            "tags": []
          },
          "execution_count": 10
        }
      ]
    },
    {
      "cell_type": "code",
      "metadata": {
        "id": "stp7MZEYnXZp",
        "outputId": "81b2212c-cf0d-486b-f7ff-ec993b22ea4c",
        "colab": {
          "base_uri": "https://localhost:8080/",
          "height": 34
        }
      },
      "source": [
        "# find the second nice basis vector u2:\n",
        "\n",
        "# 1: Pick a new vector\n",
        "r2\n",
        "\n",
        "# 2:subtract the projection of r2 onto the nice basis u1, u2, u3...\n",
        "# and save this as a temp vector n2\n",
        "\n",
        "n2=r2- np.dot(r2, u1)*u1\n",
        "r2\n",
        "\n",
        "#3: find the magnitude of n2\n",
        "np.sqrt(np.dot(n2,n2))\n",
        "\n",
        "#4: create a nice basis vector u2=1/ |n2| * n2\n",
        "u2= n2/ np.sqrt(np.dot(n2,n2))\n",
        "u2"
      ],
      "execution_count": 11,
      "outputs": [
        {
          "output_type": "execute_result",
          "data": {
            "text/plain": [
              "array([0.5, 0.5, 0.5, 0.5])"
            ]
          },
          "metadata": {
            "tags": []
          },
          "execution_count": 11
        }
      ]
    },
    {
      "cell_type": "code",
      "metadata": {
        "id": "KPZwsT5Lnyo8",
        "outputId": "5d9ff4b9-8846-4cb8-8fed-bbbe51785d37",
        "colab": {
          "base_uri": "https://localhost:8080/",
          "height": 51
        }
      },
      "source": [
        "# check that u1 and u2 are othongoal:\n",
        "print(np.dot(u1,u2))\n",
        "#check that u2 has magnitude of 1:\n",
        "print(np.dot(u2,u2))"
      ],
      "execution_count": 12,
      "outputs": [
        {
          "output_type": "stream",
          "text": [
            "-3.3306690738754696e-16\n",
            "1.0\n"
          ],
          "name": "stdout"
        }
      ]
    },
    {
      "cell_type": "code",
      "metadata": {
        "id": "5xz1s6rWoRLQ",
        "outputId": "35268dca-a727-41d5-e911-86ccb0ff2689",
        "colab": {
          "base_uri": "https://localhost:8080/",
          "height": 34
        }
      },
      "source": [
        "# find the second nice basis vector u3:\n",
        "\n",
        "# 1: Pick a new vector\n",
        "r3\n",
        "\n",
        "# 2:subtract the projection of r3 onto the nice basis u1, u2, u3...\n",
        "# and save this as a temp vector n3\n",
        "\n",
        "n3=r3- np.dot(r3, u1)*u1 - np.dot(r3, u2)* u2\n",
        "r3\n",
        "\n",
        "#3: find the magnitude of n3\n",
        "np.sqrt(np.dot(n3,n3))\n",
        "\n",
        "#4: create a nice basis vector u3=1/ |n3| * n3\n",
        "u3= n3/ np.sqrt(np.dot(n3,n3))\n",
        "u3"
      ],
      "execution_count": 13,
      "outputs": [
        {
          "output_type": "execute_result",
          "data": {
            "text/plain": [
              "array([-7.07106781e-01, -3.14018492e-16,  9.42055475e-16,  7.07106781e-01])"
            ]
          },
          "metadata": {
            "tags": []
          },
          "execution_count": 13
        }
      ]
    },
    {
      "cell_type": "code",
      "metadata": {
        "id": "otdrIJL6ofhv",
        "outputId": "bec18d35-c016-41e4-d580-876e16403c44",
        "colab": {
          "base_uri": "https://localhost:8080/",
          "height": 51
        }
      },
      "source": [
        "# check that u3 is orthogonal to u1 and u2:\n",
        "print(np.dot(u1,u3))\n",
        "#check that u2 has magnitude of 1:\n",
        "print(np.dot(u3,u3))"
      ],
      "execution_count": 14,
      "outputs": [
        {
          "output_type": "stream",
          "text": [
            "-8.881784197001252e-16\n",
            "0.9999999999999998\n"
          ],
          "name": "stdout"
        }
      ]
    },
    {
      "cell_type": "code",
      "metadata": {
        "id": "7CPnmBtPpiET",
        "outputId": "387f8923-5287-4b6b-e489-83246a697eda",
        "colab": {
          "base_uri": "https://localhost:8080/",
          "height": 34
        }
      },
      "source": [
        "# find the second nice basis vector u4:\n",
        "\n",
        "# 1: Pick a new vector\n",
        "r4\n",
        "\n",
        "# 2:subtract the projection of r4 onto the nice basis u1, u2, u3...\n",
        "# and save this as a temp vector n4\n",
        "\n",
        "n4=r4- np.dot(r4, u1)*u1 - np.dot(r4, u2)* u2 - np.dot(r4,u3)*u3\n",
        "r4\n",
        "\n",
        "#3: find the magnitude of n4\n",
        "np.sqrt(np.dot(n4,n4))\n",
        "\n",
        "#4: create a nice basis vector u4=1/ |n4| * n4\n",
        "u4= n4/ np.sqrt(np.dot(n4,n4))\n",
        "u4"
      ],
      "execution_count": 15,
      "outputs": [
        {
          "output_type": "execute_result",
          "data": {
            "text/plain": [
              "array([ 0.5, -0.5, -0.5,  0.5])"
            ]
          },
          "metadata": {
            "tags": []
          },
          "execution_count": 15
        }
      ]
    },
    {
      "cell_type": "code",
      "metadata": {
        "id": "PU6PuZHEqLBB",
        "outputId": "b93d1c4d-75b5-41a9-f1cd-0ea4da0ad220",
        "colab": {
          "base_uri": "https://localhost:8080/",
          "height": 85
        }
      },
      "source": [
        "# check that u4 is orthogonal to u1 and u2 and u3:\n",
        "print(np.dot(u4,u1))\n",
        "print(np.dot(u4,u2))\n",
        "print(np.dot(u4,u3))\n",
        "#check that u4 has magnitude of 1:\n",
        "print(np.dot(u4,u4))"
      ],
      "execution_count": 16,
      "outputs": [
        {
          "output_type": "stream",
          "text": [
            "2.7755575615628914e-16\n",
            "-2.220446049250313e-16\n",
            "-1.1102230246251565e-16\n",
            "1.0\n"
          ],
          "name": "stdout"
        }
      ]
    },
    {
      "cell_type": "code",
      "metadata": {
        "id": "sdCpyUB6qaug",
        "outputId": "2cbf5b47-1950-4cbc-e8e1-5eced865f342",
        "colab": {
          "base_uri": "https://localhost:8080/",
          "height": 34
        }
      },
      "source": [
        "# find a linear combination:\n",
        "r4-(np.dot(r4,u1))*u1-(np.dot(r4,u2))*u2-(np.dot(r4,u3))*u3"
      ],
      "execution_count": 17,
      "outputs": [
        {
          "output_type": "execute_result",
          "data": {
            "text/plain": [
              "array([ 3., -3., -3.,  3.])"
            ]
          },
          "metadata": {
            "tags": []
          },
          "execution_count": 17
        }
      ]
    },
    {
      "cell_type": "code",
      "metadata": {
        "id": "TFSuK0rKtIxI"
      },
      "source": [
        ""
      ],
      "execution_count": null,
      "outputs": []
    }
  ]
}
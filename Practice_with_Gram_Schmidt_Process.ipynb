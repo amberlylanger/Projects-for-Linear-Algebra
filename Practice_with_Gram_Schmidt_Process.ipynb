{
  "nbformat": 4,
  "nbformat_minor": 0,
  "metadata": {
    "colab": {
      "name": "Practice with Gram Schmidt Process.ipynb",
      "provenance": [],
      "authorship_tag": "ABX9TyNHM2iDVSrdpEGxTE8p3ypY",
      "include_colab_link": true
    },
    "kernelspec": {
      "name": "python3",
      "display_name": "Python 3"
    }
  },
  "cells": [
    {
      "cell_type": "markdown",
      "metadata": {
        "id": "view-in-github",
        "colab_type": "text"
      },
      "source": [
        "<a href=\"https://colab.research.google.com/github/amberlylanger/Projects-for-Linear-Algebra/blob/master/Practice_with_Gram_Schmidt_Process.ipynb\" target=\"_parent\"><img src=\"https://colab.research.google.com/assets/colab-badge.svg\" alt=\"Open In Colab\"/></a>"
      ]
    },
    {
      "cell_type": "code",
      "metadata": {
        "id": "6sG3uD2LBH6X"
      },
      "source": [
        "\n",
        "import matplotlib.pyplot as plt\n",
        "from sympy import Poly\n",
        "import sympy as sym\n",
        "import numpy as np\n",
        "from numpy import c_\n",
        "\n",
        "# We'll specify that x and t are variables:\n",
        "x, t = sym.symbols('x, t')\n",
        "\n",
        "ll = \"loaded\""
      ],
      "execution_count": 3,
      "outputs": []
    },
    {
      "cell_type": "code",
      "metadata": {
        "id": "MKWeMj88Bb2s",
        "outputId": "b7d7045b-f25d-4068-d817-8709f5a43766",
        "colab": {
          "base_uri": "https://localhost:8080/",
          "height": 102
        }
      },
      "source": [
        "# examples of matrix and vector definition\n",
        "\n",
        "# create the matrix:\n",
        "M = np.matrix([[1, -1, 0, 0],\n",
        "               [1, 0, -1, 0],\n",
        "               [0, 1, -1, 0],\n",
        "               [0, 0, -1, 1],\n",
        "               [-1, 0, 0, 1]])\n",
        "\n",
        "\n",
        "# create the vector for the right hand side:\n",
        "pts = np.matrix([[1], [14], [38], [11], [20]])\n",
        " \n",
        "#Make sure the system looks appropriate:\n",
        "print(np.c_[M,pts])"
      ],
      "execution_count": 4,
      "outputs": [
        {
          "output_type": "stream",
          "text": [
            "[[ 1 -1  0  0  1]\n",
            " [ 1  0 -1  0 14]\n",
            " [ 0  1 -1  0 38]\n",
            " [ 0  0 -1  1 11]\n",
            " [-1  0  0  1 20]]\n"
          ],
          "name": "stdout"
        }
      ]
    },
    {
      "cell_type": "code",
      "metadata": {
        "id": "tWvxfQbJByV4",
        "outputId": "fec170e8-20bb-4a29-a227-c60b7722f270",
        "colab": {
          "base_uri": "https://localhost:8080/",
          "height": 102
        }
      },
      "source": [
        "pts"
      ],
      "execution_count": 5,
      "outputs": [
        {
          "output_type": "execute_result",
          "data": {
            "text/plain": [
              "matrix([[ 1],\n",
              "        [14],\n",
              "        [38],\n",
              "        [11],\n",
              "        [20]])"
            ]
          },
          "metadata": {
            "tags": []
          },
          "execution_count": 5
        }
      ]
    },
    {
      "cell_type": "code",
      "metadata": {
        "id": "UuWvgdW6BzPj",
        "outputId": "ca084f12-9f2f-4542-ce12-8f633ad1b6a6",
        "colab": {
          "base_uri": "https://localhost:8080/",
          "height": 34
        }
      },
      "source": [
        "# how do I do a dot product?\n",
        "np.dot([1,4],[3,6])"
      ],
      "execution_count": 6,
      "outputs": [
        {
          "output_type": "execute_result",
          "data": {
            "text/plain": [
              "27"
            ]
          },
          "metadata": {
            "tags": []
          },
          "execution_count": 6
        }
      ]
    },
    {
      "cell_type": "code",
      "metadata": {
        "id": "qdx3KRVECRIY",
        "outputId": "cd807530-7c25-463a-de25-e5ff3ee1dbdc",
        "colab": {
          "base_uri": "https://localhost:8080/",
          "height": 34
        }
      },
      "source": [
        "# How do I find the magnitude in np?\n",
        "np.sqrt(np.dot([1,4],[3,6]))"
      ],
      "execution_count": 7,
      "outputs": [
        {
          "output_type": "execute_result",
          "data": {
            "text/plain": [
              "5.196152422706632"
            ]
          },
          "metadata": {
            "tags": []
          },
          "execution_count": 7
        }
      ]
    },
    {
      "cell_type": "code",
      "metadata": {
        "id": "uiIKMRvzCdR9",
        "outputId": "5102fede-6205-4279-bf65-89f231db4f28",
        "colab": {
          "base_uri": "https://localhost:8080/",
          "height": 34
        }
      },
      "source": [
        "# Define the original vectors:\n",
        "\n",
        "r1= [2,4,0,0]\n",
        "r2= [1,2,3,6]\n",
        "r3= [2,-1,2,-1]\n",
        "r4= [1,2,3,4]\n",
        "\n",
        "# look at r1:\n",
        "r1"
      ],
      "execution_count": 8,
      "outputs": [
        {
          "output_type": "execute_result",
          "data": {
            "text/plain": [
              "[2, 4, 0, 0]"
            ]
          },
          "metadata": {
            "tags": []
          },
          "execution_count": 8
        }
      ]
    },
    {
      "cell_type": "code",
      "metadata": {
        "id": "shiry0HEl2QP",
        "outputId": "fcc8583d-fc38-4736-a773-7aff4e3b79b6",
        "colab": {
          "base_uri": "https://localhost:8080/",
          "height": 34
        }
      },
      "source": [
        "# find the first nice basis vector u1:\n",
        "\n",
        "# 1: Pick a new vector\n",
        "r1\n",
        "\n",
        "# 2:subtract the projection of r1 onto the nice basis u1, u2, u3...\n",
        "# and save this as a temp vector n1\n",
        "\n",
        "n1=r1\n",
        "r1\n",
        "\n",
        "#3: find the magnitude of n1\n",
        "np.sqrt(np.dot(n1,n1))\n",
        "\n",
        "#4: create a nice basis vector u1=1/ |n1| * n1\n",
        "u1= n1/ np.sqrt(np.dot(n1,n1))\n",
        "u1"
      ],
      "execution_count": 11,
      "outputs": [
        {
          "output_type": "execute_result",
          "data": {
            "text/plain": [
              "array([0.4472136 , 0.89442719, 0.        , 0.        ])"
            ]
          },
          "metadata": {
            "tags": []
          },
          "execution_count": 11
        }
      ]
    },
    {
      "cell_type": "code",
      "metadata": {
        "id": "hutHjlU1mopE",
        "outputId": "7568bf4b-0aad-4496-a397-37c9373e644b",
        "colab": {
          "base_uri": "https://localhost:8080/",
          "height": 34
        }
      },
      "source": [
        "# check that u1 has magnitude 1:\n",
        "np.dot(u1,u1)"
      ],
      "execution_count": 12,
      "outputs": [
        {
          "output_type": "execute_result",
          "data": {
            "text/plain": [
              "0.9999999999999999"
            ]
          },
          "metadata": {
            "tags": []
          },
          "execution_count": 12
        }
      ]
    },
    {
      "cell_type": "code",
      "metadata": {
        "id": "stp7MZEYnXZp",
        "outputId": "075471f2-f3dd-475c-ba66-a2ddc84116bc",
        "colab": {
          "base_uri": "https://localhost:8080/",
          "height": 34
        }
      },
      "source": [
        "# find the second nice basis vector u2:\n",
        "\n",
        "# 1: Pick a new vector\n",
        "r2\n",
        "\n",
        "# 2:subtract the projection of r2 onto the nice basis u1, u2, u3...\n",
        "# and save this as a temp vector n2\n",
        "\n",
        "n2=r2- np.dot(r2, u1)*u1\n",
        "r2\n",
        "\n",
        "#3: find the magnitude of n2\n",
        "np.sqrt(np.dot(n2,n2))\n",
        "\n",
        "#4: create a nice basis vector u2=1/ |n2| * n2\n",
        "u2= n2/ np.sqrt(np.dot(n2,n2))\n",
        "u2"
      ],
      "execution_count": 14,
      "outputs": [
        {
          "output_type": "execute_result",
          "data": {
            "text/plain": [
              "array([0.        , 0.        , 0.4472136 , 0.89442719])"
            ]
          },
          "metadata": {
            "tags": []
          },
          "execution_count": 14
        }
      ]
    },
    {
      "cell_type": "code",
      "metadata": {
        "id": "KPZwsT5Lnyo8",
        "outputId": "296f9743-cd23-47dc-83dd-9bcd2ca2880c",
        "colab": {
          "base_uri": "https://localhost:8080/",
          "height": 34
        }
      },
      "source": [
        "# check that u1 and u2 are othongoal:\n",
        "np.dot(u1,u2)\n",
        "#check that u2 has magnitude of 1:\n",
        "np.dot(u2,u2)"
      ],
      "execution_count": 15,
      "outputs": [
        {
          "output_type": "execute_result",
          "data": {
            "text/plain": [
              "0.9999999999999999"
            ]
          },
          "metadata": {
            "tags": []
          },
          "execution_count": 15
        }
      ]
    },
    {
      "cell_type": "code",
      "metadata": {
        "id": "5xz1s6rWoRLQ",
        "outputId": "cdfbfc36-346f-415e-c3f9-30d7b23e192b",
        "colab": {
          "base_uri": "https://localhost:8080/",
          "height": 34
        }
      },
      "source": [
        "# find the second nice basis vector u3:\n",
        "\n",
        "# 1: Pick a new vector\n",
        "r3\n",
        "\n",
        "# 2:subtract the projection of r3 onto the nice basis u1, u2, u3...\n",
        "# and save this as a temp vector n3\n",
        "\n",
        "n3=r3- np.dot(r3, u1)*u1 - np.dot(r3, u2)* u2\n",
        "r3\n",
        "\n",
        "#3: find the magnitude of n3\n",
        "np.sqrt(np.dot(n3,n3))\n",
        "\n",
        "#4: create a nice basis vector u3=1/ |n3| * n3\n",
        "u3= n3/ np.sqrt(np.dot(n3,n3))\n",
        "u3"
      ],
      "execution_count": 18,
      "outputs": [
        {
          "output_type": "execute_result",
          "data": {
            "text/plain": [
              "array([ 0.63245553, -0.31622777,  0.63245553, -0.31622777])"
            ]
          },
          "metadata": {
            "tags": []
          },
          "execution_count": 18
        }
      ]
    },
    {
      "cell_type": "code",
      "metadata": {
        "id": "otdrIJL6ofhv",
        "outputId": "47f2c07b-6d97-402e-d94f-479c4b0cde0c",
        "colab": {
          "base_uri": "https://localhost:8080/",
          "height": 34
        }
      },
      "source": [
        "# check that u3 is orthogonal to u1 and u2:\n",
        "np.dot(u1,u3)\n",
        "#check that u2 has magnitude of 1:\n",
        "np.dot(u3,u3)"
      ],
      "execution_count": 19,
      "outputs": [
        {
          "output_type": "execute_result",
          "data": {
            "text/plain": [
              "1.0"
            ]
          },
          "metadata": {
            "tags": []
          },
          "execution_count": 19
        }
      ]
    },
    {
      "cell_type": "code",
      "metadata": {
        "id": "7CPnmBtPpiET",
        "outputId": "9413ec50-21d1-4799-bc5f-f1a7475871be",
        "colab": {
          "base_uri": "https://localhost:8080/",
          "height": 34
        }
      },
      "source": [
        "# find the second nice basis vector u4:\n",
        "\n",
        "# 1: Pick a new vector\n",
        "r4\n",
        "\n",
        "# 2:subtract the projection of r4 onto the nice basis u1, u2, u3...\n",
        "# and save this as a temp vector n4\n",
        "\n",
        "n4=r4- np.dot(r4, u1)*u1 - np.dot(r4, u2)* u2 - np.dot(r4,u3)*u3\n",
        "r4\n",
        "\n",
        "#3: find the magnitude of n4\n",
        "np.sqrt(np.dot(n4,n4))\n",
        "\n",
        "#4: create a nice basis vector u4=1/ |n4| * n4\n",
        "u4= n4/ np.sqrt(np.dot(n4,n4))\n",
        "u4"
      ],
      "execution_count": 20,
      "outputs": [
        {
          "output_type": "execute_result",
          "data": {
            "text/plain": [
              "array([-0.63245553,  0.31622777,  0.63245553, -0.31622777])"
            ]
          },
          "metadata": {
            "tags": []
          },
          "execution_count": 20
        }
      ]
    },
    {
      "cell_type": "code",
      "metadata": {
        "id": "PU6PuZHEqLBB",
        "outputId": "e0b12b39-3a50-4ebc-bb2e-9bc6b1fa6e29",
        "colab": {
          "base_uri": "https://localhost:8080/",
          "height": 85
        }
      },
      "source": [
        "# check that u4 is orthogonal to u1 and u2 and u3:\n",
        "print(np.dot(u4,u1))\n",
        "print(np.dot(u4,u2))\n",
        "print(np.dot(u4,u3))\n",
        "#check that u4 has magnitude of 1:\n",
        "print(np.dot(u4,u4))"
      ],
      "execution_count": 23,
      "outputs": [
        {
          "output_type": "stream",
          "text": [
            "0.0\n",
            "9.43689570931383e-16\n",
            "9.71445146547012e-17\n",
            "0.9999999999999998\n"
          ],
          "name": "stdout"
        }
      ]
    },
    {
      "cell_type": "code",
      "metadata": {
        "id": "sdCpyUB6qaug"
      },
      "source": [
        ""
      ],
      "execution_count": null,
      "outputs": []
    }
  ]
}
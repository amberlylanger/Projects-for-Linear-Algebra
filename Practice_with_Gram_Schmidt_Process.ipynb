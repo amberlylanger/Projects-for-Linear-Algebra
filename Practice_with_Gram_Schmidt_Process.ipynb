{
  "nbformat": 4,
  "nbformat_minor": 0,
  "metadata": {
    "colab": {
      "name": "Practice with Gram Schmidt Process.ipynb",
      "provenance": [],
      "authorship_tag": "ABX9TyOq0bHwUxfptMNEBNMsnKNc",
      "include_colab_link": true
    },
    "kernelspec": {
      "name": "python3",
      "display_name": "Python 3"
    }
  },
  "cells": [
    {
      "cell_type": "markdown",
      "metadata": {
        "id": "view-in-github",
        "colab_type": "text"
      },
      "source": [
        "<a href=\"https://colab.research.google.com/github/amberlylanger/Projects-for-Linear-Algebra/blob/master/Practice_with_Gram_Schmidt_Process.ipynb\" target=\"_parent\"><img src=\"https://colab.research.google.com/assets/colab-badge.svg\" alt=\"Open In Colab\"/></a>"
      ]
    },
    {
      "cell_type": "code",
      "metadata": {
        "id": "6sG3uD2LBH6X"
      },
      "source": [
        "\n",
        "import matplotlib.pyplot as plt\n",
        "from sympy import Poly\n",
        "import sympy as sym\n",
        "import numpy as np\n",
        "from numpy import c_\n",
        "\n",
        "# We'll specify that x and t are variables:\n",
        "x, t = sym.symbols('x, t')\n",
        "\n",
        "ll = \"loaded\""
      ],
      "execution_count": 3,
      "outputs": []
    },
    {
      "cell_type": "code",
      "metadata": {
        "id": "MKWeMj88Bb2s",
        "outputId": "b7d7045b-f25d-4068-d817-8709f5a43766",
        "colab": {
          "base_uri": "https://localhost:8080/",
          "height": 102
        }
      },
      "source": [
        "# examples of matrix and vector definition\n",
        "\n",
        "# create the matrix:\n",
        "M = np.matrix([[1, -1, 0, 0],\n",
        "               [1, 0, -1, 0],\n",
        "               [0, 1, -1, 0],\n",
        "               [0, 0, -1, 1],\n",
        "               [-1, 0, 0, 1]])\n",
        "\n",
        "\n",
        "# create the vector for the right hand side:\n",
        "pts = np.matrix([[1], [14], [38], [11], [20]])\n",
        " \n",
        "#Make sure the system looks appropriate:\n",
        "print(np.c_[M,pts])"
      ],
      "execution_count": 4,
      "outputs": [
        {
          "output_type": "stream",
          "text": [
            "[[ 1 -1  0  0  1]\n",
            " [ 1  0 -1  0 14]\n",
            " [ 0  1 -1  0 38]\n",
            " [ 0  0 -1  1 11]\n",
            " [-1  0  0  1 20]]\n"
          ],
          "name": "stdout"
        }
      ]
    },
    {
      "cell_type": "code",
      "metadata": {
        "id": "tWvxfQbJByV4",
        "outputId": "fec170e8-20bb-4a29-a227-c60b7722f270",
        "colab": {
          "base_uri": "https://localhost:8080/",
          "height": 102
        }
      },
      "source": [
        "pts"
      ],
      "execution_count": 5,
      "outputs": [
        {
          "output_type": "execute_result",
          "data": {
            "text/plain": [
              "matrix([[ 1],\n",
              "        [14],\n",
              "        [38],\n",
              "        [11],\n",
              "        [20]])"
            ]
          },
          "metadata": {
            "tags": []
          },
          "execution_count": 5
        }
      ]
    },
    {
      "cell_type": "code",
      "metadata": {
        "id": "UuWvgdW6BzPj",
        "outputId": "ca084f12-9f2f-4542-ce12-8f633ad1b6a6",
        "colab": {
          "base_uri": "https://localhost:8080/",
          "height": 34
        }
      },
      "source": [
        "# how do I do a dot product?\n",
        "np.dot([1,4],[3,6])"
      ],
      "execution_count": 6,
      "outputs": [
        {
          "output_type": "execute_result",
          "data": {
            "text/plain": [
              "27"
            ]
          },
          "metadata": {
            "tags": []
          },
          "execution_count": 6
        }
      ]
    },
    {
      "cell_type": "code",
      "metadata": {
        "id": "qdx3KRVECRIY",
        "outputId": "cd807530-7c25-463a-de25-e5ff3ee1dbdc",
        "colab": {
          "base_uri": "https://localhost:8080/",
          "height": 34
        }
      },
      "source": [
        "# How do I find the magnitude in np?\n",
        "np.sqrt(np.dot([1,4],[3,6]))"
      ],
      "execution_count": 7,
      "outputs": [
        {
          "output_type": "execute_result",
          "data": {
            "text/plain": [
              "5.196152422706632"
            ]
          },
          "metadata": {
            "tags": []
          },
          "execution_count": 7
        }
      ]
    },
    {
      "cell_type": "code",
      "metadata": {
        "id": "uiIKMRvzCdR9",
        "outputId": "10483d52-fa91-4c67-f543-e48b04d172dc",
        "colab": {
          "base_uri": "https://localhost:8080/",
          "height": 34
        }
      },
      "source": [
        "# Define the original vectors:\n",
        "\n",
        "r1= [3,0,3,0]\n",
        "r2= [3,2,3,3]\n",
        "r3= [-7,-4,-5,-6]\n",
        "r4= [-7,-3,-11,2]\n",
        "\n",
        "# look at r1:\n",
        "r1"
      ],
      "execution_count": 24,
      "outputs": [
        {
          "output_type": "execute_result",
          "data": {
            "text/plain": [
              "[3, 0, 3, 0]"
            ]
          },
          "metadata": {
            "tags": []
          },
          "execution_count": 24
        }
      ]
    },
    {
      "cell_type": "code",
      "metadata": {
        "id": "shiry0HEl2QP",
        "outputId": "50150089-29ce-41a5-cccd-d0fc97563eec",
        "colab": {
          "base_uri": "https://localhost:8080/",
          "height": 34
        }
      },
      "source": [
        "# find the first nice basis vector u1:\n",
        "\n",
        "# 1: Pick a new vector\n",
        "r1\n",
        "\n",
        "# 2:subtract the projection of r1 onto the nice basis u1, u2, u3...\n",
        "# and save this as a temp vector n1\n",
        "\n",
        "n1=r1\n",
        "r1\n",
        "\n",
        "#3: find the magnitude of n1\n",
        "np.sqrt(np.dot(n1,n1))\n",
        "\n",
        "#4: create a nice basis vector u1=1/ |n1| * n1\n",
        "u1= n1/ np.sqrt(np.dot(n1,n1))\n",
        "u1"
      ],
      "execution_count": 32,
      "outputs": [
        {
          "output_type": "execute_result",
          "data": {
            "text/plain": [
              "array([0.70710678, 0.        , 0.70710678, 0.        ])"
            ]
          },
          "metadata": {
            "tags": []
          },
          "execution_count": 32
        }
      ]
    },
    {
      "cell_type": "code",
      "metadata": {
        "id": "hutHjlU1mopE",
        "outputId": "117d2075-e3df-43a8-a642-20eb328adbbb",
        "colab": {
          "base_uri": "https://localhost:8080/",
          "height": 34
        }
      },
      "source": [
        "# check that u1 has magnitude 1:\n",
        "np.dot(u1,u1)"
      ],
      "execution_count": 33,
      "outputs": [
        {
          "output_type": "execute_result",
          "data": {
            "text/plain": [
              "1.0000000000000002"
            ]
          },
          "metadata": {
            "tags": []
          },
          "execution_count": 33
        }
      ]
    },
    {
      "cell_type": "code",
      "metadata": {
        "id": "stp7MZEYnXZp",
        "outputId": "576cc6bb-7586-4809-c257-53eaf43d48d4",
        "colab": {
          "base_uri": "https://localhost:8080/",
          "height": 34
        }
      },
      "source": [
        "# find the second nice basis vector u2:\n",
        "\n",
        "# 1: Pick a new vector\n",
        "r2\n",
        "\n",
        "# 2:subtract the projection of r2 onto the nice basis u1, u2, u3...\n",
        "# and save this as a temp vector n2\n",
        "\n",
        "n2=r2- np.dot(r2, u1)*u1\n",
        "r2\n",
        "\n",
        "#3: find the magnitude of n2\n",
        "np.sqrt(np.dot(n2,n2))\n",
        "\n",
        "#4: create a nice basis vector u2=1/ |n2| * n2\n",
        "u2= n2/ np.sqrt(np.dot(n2,n2))\n",
        "u2"
      ],
      "execution_count": 34,
      "outputs": [
        {
          "output_type": "execute_result",
          "data": {
            "text/plain": [
              "array([-1.23168186e-16,  5.54700196e-01, -1.23168186e-16,  8.32050294e-01])"
            ]
          },
          "metadata": {
            "tags": []
          },
          "execution_count": 34
        }
      ]
    },
    {
      "cell_type": "code",
      "metadata": {
        "id": "KPZwsT5Lnyo8",
        "outputId": "481ab9ec-050c-4ca4-ad1a-c001ed3acb4c",
        "colab": {
          "base_uri": "https://localhost:8080/",
          "height": 51
        }
      },
      "source": [
        "# check that u1 and u2 are othongoal:\n",
        "print(np.dot(u1,u2))\n",
        "#check that u2 has magnitude of 1:\n",
        "print(np.dot(u2,u2))"
      ],
      "execution_count": 35,
      "outputs": [
        {
          "output_type": "stream",
          "text": [
            "-1.741861189847285e-16\n",
            "1.0\n"
          ],
          "name": "stdout"
        }
      ]
    },
    {
      "cell_type": "code",
      "metadata": {
        "id": "5xz1s6rWoRLQ",
        "outputId": "e03aa921-abb6-416a-bab1-210f1928ab43",
        "colab": {
          "base_uri": "https://localhost:8080/",
          "height": 34
        }
      },
      "source": [
        "# find the second nice basis vector u3:\n",
        "\n",
        "# 1: Pick a new vector\n",
        "r3\n",
        "\n",
        "# 2:subtract the projection of r3 onto the nice basis u1, u2, u3...\n",
        "# and save this as a temp vector n3\n",
        "\n",
        "n3=r3- np.dot(r3, u1)*u1 - np.dot(r3, u2)* u2\n",
        "r3\n",
        "\n",
        "#3: find the magnitude of n3\n",
        "np.sqrt(np.dot(n3,n3))\n",
        "\n",
        "#4: create a nice basis vector u3=1/ |n3| * n3\n",
        "u3= n3/ np.sqrt(np.dot(n3,n3))\n",
        "u3"
      ],
      "execution_count": 36,
      "outputs": [
        {
          "output_type": "execute_result",
          "data": {
            "text/plain": [
              "array([-7.07106781e-01, -3.14018492e-16,  7.07106781e-01, -6.28036983e-16])"
            ]
          },
          "metadata": {
            "tags": []
          },
          "execution_count": 36
        }
      ]
    },
    {
      "cell_type": "code",
      "metadata": {
        "id": "otdrIJL6ofhv",
        "outputId": "88f4497c-360f-4e43-f2e0-099167c7c770",
        "colab": {
          "base_uri": "https://localhost:8080/",
          "height": 51
        }
      },
      "source": [
        "# check that u3 is orthogonal to u1 and u2:\n",
        "print(np.dot(u1,u3))\n",
        "#check that u2 has magnitude of 1:\n",
        "print(np.dot(u3,u3))"
      ],
      "execution_count": 37,
      "outputs": [
        {
          "output_type": "stream",
          "text": [
            "0.0\n",
            "0.9999999999999998\n"
          ],
          "name": "stdout"
        }
      ]
    },
    {
      "cell_type": "code",
      "metadata": {
        "id": "7CPnmBtPpiET",
        "outputId": "d0dbe6ab-256a-4fcd-857a-17c269993d53",
        "colab": {
          "base_uri": "https://localhost:8080/",
          "height": 34
        }
      },
      "source": [
        "# find the second nice basis vector u4:\n",
        "\n",
        "# 1: Pick a new vector\n",
        "r4\n",
        "\n",
        "# 2:subtract the projection of r4 onto the nice basis u1, u2, u3...\n",
        "# and save this as a temp vector n4\n",
        "\n",
        "n4=r4- np.dot(r4, u1)*u1 - np.dot(r4, u2)* u2 - np.dot(r4,u3)*u3\n",
        "r4\n",
        "\n",
        "#3: find the magnitude of n4\n",
        "np.sqrt(np.dot(n4,n4))\n",
        "\n",
        "#4: create a nice basis vector u4=1/ |n4| * n4\n",
        "u4= n4/ np.sqrt(np.dot(n4,n4))\n",
        "u4"
      ],
      "execution_count": 38,
      "outputs": [
        {
          "output_type": "execute_result",
          "data": {
            "text/plain": [
              "array([ 0.        , -0.83205029,  0.        ,  0.5547002 ])"
            ]
          },
          "metadata": {
            "tags": []
          },
          "execution_count": 38
        }
      ]
    },
    {
      "cell_type": "code",
      "metadata": {
        "id": "PU6PuZHEqLBB",
        "outputId": "99b16746-2c99-4656-e64d-ea49d3d6f843",
        "colab": {
          "base_uri": "https://localhost:8080/",
          "height": 85
        }
      },
      "source": [
        "# check that u4 is orthogonal to u1 and u2 and u3:\n",
        "print(np.dot(u4,u1))\n",
        "print(np.dot(u4,u2))\n",
        "print(np.dot(u4,u3))\n",
        "#check that u4 has magnitude of 1:\n",
        "print(np.dot(u4,u4))"
      ],
      "execution_count": 39,
      "outputs": [
        {
          "output_type": "stream",
          "text": [
            "0.0\n",
            "-1.2212453270876722e-15\n",
            "-8.709305949236341e-17\n",
            "1.0\n"
          ],
          "name": "stdout"
        }
      ]
    },
    {
      "cell_type": "code",
      "metadata": {
        "id": "sdCpyUB6qaug",
        "outputId": "89aaee56-9ce7-415a-c95f-425b1483e9bf",
        "colab": {
          "base_uri": "https://localhost:8080/",
          "height": 34
        }
      },
      "source": [
        "# find a linear combination:\n",
        "r4-(np.dot(r4,u1))*u1-(np.dot(r4,u2))*u2-(np.dot(r4,u3))*u3"
      ],
      "execution_count": 41,
      "outputs": [
        {
          "output_type": "execute_result",
          "data": {
            "text/plain": [
              "array([ 0., -3.,  0.,  2.])"
            ]
          },
          "metadata": {
            "tags": []
          },
          "execution_count": 41
        }
      ]
    },
    {
      "cell_type": "code",
      "metadata": {
        "id": "TFSuK0rKtIxI"
      },
      "source": [
        ""
      ],
      "execution_count": null,
      "outputs": []
    }
  ]
}
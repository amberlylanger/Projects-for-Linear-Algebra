{
  "nbformat": 4,
  "nbformat_minor": 0,
  "metadata": {
    "colab": {
      "name": "Worksheet for determinants of matrix products.ipynb",
      "provenance": [],
      "authorship_tag": "ABX9TyMnifBKjwzpSlgBV1nHCzdk",
      "include_colab_link": true
    },
    "kernelspec": {
      "name": "python3",
      "display_name": "Python 3"
    }
  },
  "cells": [
    {
      "cell_type": "markdown",
      "metadata": {
        "id": "view-in-github",
        "colab_type": "text"
      },
      "source": [
        "<a href=\"https://colab.research.google.com/github/amberlylanger/Projects-for-Linear-Algebra/blob/master/Worksheet_for_determinants_of_matrix_products.ipynb\" target=\"_parent\"><img src=\"https://colab.research.google.com/assets/colab-badge.svg\" alt=\"Open In Colab\"/></a>"
      ]
    },
    {
      "cell_type": "code",
      "metadata": {
        "id": "6k8f1QoQiKC9"
      },
      "source": [
        "import matplotlib.pyplot as plt\n",
        "from sympy import Poly\n",
        "import sympy as sym\n",
        "import numpy as np\n",
        "from numpy import c_\n",
        "\n",
        "# We'll specify that x and t are variables:\n",
        "x, t = sym.symbols('x, t')\n",
        "\n",
        "ll = \"loaded\""
      ],
      "execution_count": 1,
      "outputs": []
    },
    {
      "cell_type": "code",
      "metadata": {
        "id": "DQ7nM_opiUSv"
      },
      "source": [
        "# create the matrix:\n",
        "A =np.matrix([[3,2,3],\n",
        "             [-6,1,-10],\n",
        "             [-8,-9,-9]])\n",
        "B=np.matrix([[1,-2,1],\n",
        "             [5,5,4],\n",
        "             [4,0,0]])\n",
        "\n",
        "C=np.matrix([[1,0,0],\n",
        "             [0,2,0],\n",
        "             [-3,-2,1]])"
      ],
      "execution_count": 11,
      "outputs": []
    },
    {
      "cell_type": "code",
      "metadata": {
        "id": "EAcM19JZinhJ",
        "outputId": "8cbf4adb-8a28-48ba-e27c-9be589293386",
        "colab": {
          "base_uri": "https://localhost:8080/"
        }
      },
      "source": [
        "np.linalg.det(C*B*A)"
      ],
      "execution_count": 18,
      "outputs": [
        {
          "output_type": "execute_result",
          "data": {
            "text/plain": [
              "6136.000000000006"
            ]
          },
          "metadata": {
            "tags": []
          },
          "execution_count": 18
        }
      ]
    },
    {
      "cell_type": "code",
      "metadata": {
        "id": "ww_GZ2vGi3Rc"
      },
      "source": [
        ""
      ],
      "execution_count": null,
      "outputs": []
    }
  ]
}